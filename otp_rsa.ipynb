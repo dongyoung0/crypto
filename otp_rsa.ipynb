{
 "cells": [
  {
   "cell_type": "code",
   "execution_count": 207,
   "metadata": {},
   "outputs": [],
   "source": [
    "import numpy as np\n",
    "\n",
    "def OTP_setup(n):\n",
    "    key = []\n",
    "    for i in range(n):\n",
    "        key.append(np.random.randint(2))    \n",
    "    return key\n",
    "\n",
    "def OTP_enc(key, state, plaintext):\n",
    "    \n",
    "    if len(plaintext) > len(key) - state:\n",
    "        return False\n",
    "    \n",
    "    ciphertext = []    \n",
    "    for i in range(len(plaintext)):\n",
    "        ciphertext.append((plaintext[i] + key[state + i])%2)\n",
    "        \n",
    "    state_after = state + len(plaintext)\n",
    "    \n",
    "    return ciphertext, state_after\n",
    "\n",
    "def OTP_dec(key, ciphertext, state):\n",
    "    \n",
    "    state_prev = state - len(ciphertext)\n",
    "    \n",
    "    plaintext = []\n",
    "    for i in range(len(ciphertext)):\n",
    "        plaintext.append((ciphertext[i] + key[state_prev + i])%2)\n",
    "    \n",
    "    return plaintext\n"
   ]
  },
  {
   "cell_type": "code",
   "execution_count": 208,
   "metadata": {},
   "outputs": [
    {
     "data": {
      "text/plain": [
       "True"
      ]
     },
     "execution_count": 208,
     "metadata": {},
     "output_type": "execute_result"
    }
   ],
   "source": [
    "key1 = OTP_setup(50)\n",
    "p_text = OTP_setup(10)\n",
    "\n",
    "c_text, state_af = OTP_enc(key1, 5, p_text)\n",
    "pp = OTP_dec(key1, c_text, state_af)\n",
    "\n",
    "pp == p_text"
   ]
  },
  {
   "cell_type": "code",
   "execution_count": 209,
   "metadata": {},
   "outputs": [],
   "source": [
    "import numpy as np\n",
    "\n",
    "def Division(a,b):\n",
    "    mx = np.max([a,b])\n",
    "    mn = np.min([a,b])\n",
    "    \n",
    "    q = int(mx/mn)\n",
    "    r = mx%mn\n",
    "    #q, r = divmod(mx,mn)\n",
    "    return mn, q, r\n",
    "\n",
    "def Euclidean(a,b):\n",
    "    while b!=0:\n",
    "        a, q, b = Division(a,b)\n",
    "    return a\n",
    "\n",
    "def Extended_Euclidean(a,b):\n",
    "    A = a\n",
    "    B = b\n",
    "    I = [[1,0],[0,1]] # identity matrix\n",
    "    while b!=0:\n",
    "        a, q, b = Division(a,b)\n",
    "        I = np.matmul([[0,1],[1,-q]],I)\n",
    "    if A>B:\n",
    "        return a, I[0,0], I[0,1]\n",
    "    return a, I[0,1], I[0,0]\n",
    "\n",
    "def Inv(a,p):\n",
    "    gcd, inv, _ = Extended_Euclidean(a,p)\n",
    "    if gcd == 1:\n",
    "        if inv<0:\n",
    "            return inv+p\n",
    "        return inv\n",
    "    return print(\"No exist\")\n",
    "\n",
    "def CRT(a,p1,b,p2):\n",
    "    _, crt = divmod(a*p2*Inv(p2,p1) + b*p1*Inv(p1,p2), p1*p2)\n",
    "    return crt\n",
    "\n",
    "def Exp(a,x,p):\n",
    "    x_bin = bin(x)[2:]\n",
    "    exp = 1\n",
    "    for i in range(len(x_bin)-1):\n",
    "        e = int(x_bin[i])\n",
    "        temp = a**e\n",
    "        exp = (exp*temp)**2 % p\n",
    "    e = int(x_bin[len(x_bin)-1])\n",
    "    temp = a**e\n",
    "    exp = exp*temp % p\n",
    "    return exp\n",
    "\n"
   ]
  },
  {
   "cell_type": "code",
   "execution_count": 366,
   "metadata": {},
   "outputs": [],
   "source": [
    "def Miller_Rabin(n):\n",
    "    if n < 2:\n",
    "        return False\n",
    "    for itr in range(80):\n",
    "        a = np.random.randint(n-1)\n",
    "        #Check if a^(n-1)=1(mod n)\n",
    "        if Exp(a,n-1,n)!=1:\n",
    "            return False\n",
    "        #Write n-1 = 2^k*m with m odd\n",
    "        m = n-1\n",
    "        k = 0\n",
    "        while m%2 == 0:\n",
    "            m = int(m/2)\n",
    "            k += 1\n",
    "        #Compute b_0 = a^m (mod n)\n",
    "        b0 = Exp(a,m,n)\n",
    "        #Check if b_0 = 1 or -1 (mod n)\n",
    "        if b0 !=1 and b0 != n-1:\n",
    "            return False\n",
    "        b = b0\n",
    "        #Check for b_1, b_2, ..., b_(k-1)\n",
    "        for i in range(k-1):\n",
    "            b = (b**2) % n\n",
    "            if b != n-1:\n",
    "                return False\n",
    "    return True"
   ]
  },
  {
   "cell_type": "code",
   "execution_count": 384,
   "metadata": {},
   "outputs": [],
   "source": [
    "#Setup\n",
    "\n",
    "def Gen_prime(n):\n",
    "    prime_test = False\n",
    "    while not prime_test:\n",
    "        prime = 0\n",
    "        for i in range(n):\n",
    "            prime += np.random.randint(2)*(2**i)     \n",
    "        prime_test = Miller_Rabin(prime)\n",
    "        if prime_test:\n",
    "            return prime\n",
    "\n",
    "def get_public_key(phi_N):\n",
    "    e = 1\n",
    "    gcd = 0\n",
    "    while gcd != 1:\n",
    "        e += 1\n",
    "        gcd, _, _ = Extended_Euclidean(e,phi_N)\n",
    "    return e\n",
    "\n",
    "def RSA_setup(n):\n",
    "    p = Gen_prime(n)\n",
    "    q = Gen_prime(n)\n",
    "    N = p*q\n",
    "    phi_N = (p-1)*(q-1)\n",
    "    e = get_public_key(phi_N)\n",
    "    d = Inv(e, phi_N)\n",
    "    return N, e, d\n",
    "\n",
    "#Encryption\n",
    "def RSA_enc(m,e,N):\n",
    "    c = Exp(m,e,N)\n",
    "    return c\n",
    "\n",
    "#Decryption\n",
    "def RSA_dec(c,d,N):\n",
    "    m = Exp(c,d,N)\n",
    "    return m"
   ]
  },
  {
   "cell_type": "code",
   "execution_count": 392,
   "metadata": {},
   "outputs": [
    {
     "data": {
      "text/plain": [
       "True"
      ]
     },
     "execution_count": 392,
     "metadata": {},
     "output_type": "execute_result"
    }
   ],
   "source": [
    "N,e,d = RSA_setup(5)\n",
    "qq = Gen_prime(5)\n",
    "qqq = RSA_enc(qq,e,N)\n",
    "qq_rr = RSA_dec(qqq,d,N)\n",
    "qq == qq_rr"
   ]
  },
  {
   "cell_type": "code",
   "execution_count": 245,
   "metadata": {},
   "outputs": [
    {
     "data": {
      "text/plain": [
       "True"
      ]
     },
     "execution_count": 245,
     "metadata": {},
     "output_type": "execute_result"
    }
   ],
   "source": [
    "Miller_Rabin(167)"
   ]
  },
  {
   "cell_type": "code",
   "execution_count": 350,
   "metadata": {},
   "outputs": [
    {
     "data": {
      "text/plain": [
       "2"
      ]
     },
     "execution_count": 350,
     "metadata": {},
     "output_type": "execute_result"
    }
   ],
   "source": [
    "np.random.randint(2,3)"
   ]
  },
  {
   "cell_type": "code",
   "execution_count": null,
   "metadata": {},
   "outputs": [],
   "source": []
  }
 ],
 "metadata": {
  "kernelspec": {
   "display_name": "Python 3",
   "language": "python",
   "name": "python3"
  },
  "language_info": {
   "codemirror_mode": {
    "name": "ipython",
    "version": 3
   },
   "file_extension": ".py",
   "mimetype": "text/x-python",
   "name": "python",
   "nbconvert_exporter": "python",
   "pygments_lexer": "ipython3",
   "version": "3.7.4"
  }
 },
 "nbformat": 4,
 "nbformat_minor": 2
}
