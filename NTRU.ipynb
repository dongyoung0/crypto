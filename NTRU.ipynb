{
 "cells": [
  {
   "cell_type": "code",
   "execution_count": 1,
   "metadata": {
    "ExecuteTime": {
     "end_time": "2021-10-11T04:13:45.583632Z",
     "start_time": "2021-10-11T04:13:45.495866Z"
    }
   },
   "outputs": [],
   "source": [
    "#NTRU\n",
    "\n",
    "import numpy as np\n",
    "import BasicNumTest as bnt\n",
    "\n",
    "class RingElement:\n",
    "    def __init__(self,num,mod): #Prime Field\n",
    "        self.num = num % mod\n",
    "        self.mod = mod\n",
    "#        if bnt.MR_PT(prime) == False:\n",
    "#            raise ValueError('The second input {} is not a prime'.format(prime))\n",
    "        if self.num >= self.mod or self.num < 0:\n",
    "            raise ValueError('The first input {} is not in the range 0 to {}'.format(num,prime-1))\n",
    "        \n",
    "    def __eq__(self, other):\n",
    "        if other is None:\n",
    "            return False\n",
    "        return self.num == other.num and self.mod == other.mod\n",
    "        \n",
    "        \n",
    "    def __add__(self, other):\n",
    "        if self.mod != other.mod:\n",
    "            raise TypeError('We cannot add two numbers in different rings.')\n",
    "        num = (self.num + other.num) % self.mod\n",
    "        return self.__class__(num, self.mod)\n",
    "    \n",
    "    def __sub__(self, other):\n",
    "        if self.mod != other.mod:\n",
    "            raise TypeError('We cannot subtract two numbers in different rings.')\n",
    "        num = (self.num - other.num) % self.mod\n",
    "        return self.__class__(num, self.mod)\n",
    "    \n",
    "    def __mul__(self, other):\n",
    "        if self.mod != other.mod:\n",
    "            raise TypeError('We cannot multiply two numbers in different rings.')\n",
    "        num = (self.num * other.num) % self.mod\n",
    "        return self.__class__(num, self.mod)\n",
    "        \n",
    "    def __pow__(self, exponent):\n",
    "        a = exponent % (self.mod - 1)\n",
    "        num = bnt.Exp(self.num, a, self.mod)\n",
    "        return self.__class__(num, self.mod)\n",
    "    \n",
    "    def __neg__(self):\n",
    "        num = self.mod - self.mod\n",
    "        return self.__class__(num, self.mod)\n",
    "    \n",
    "    def __rmul__(self, coeff):\n",
    "        num = (coeff * self.num) % self.mod\n",
    "        return self.__class__(num, self.mod)\n",
    "    \n",
    "    def __truediv__(self, other):\n",
    "        num = self.num * bnt.Inv(other.num,self.mod)\n",
    "        \n",
    "        return self.__class__(num, self.mod)\n",
    "    \n",
    "    \n",
    "    \n",
    "class PolyRing: ## x^N -1  / Quotient space. N은 항상 동일\n",
    "    def __init__(self,N,coeffs,mod):\n",
    "        self.N = N\n",
    "        self.mod = mod\n",
    "        self.coeffs = coeffs # Are coefficients ring element? integer?\n",
    "        for i in range(self.N):\n",
    "            if self.coeffs[i].mod != self.mod:\n",
    "                raise ValueError('The second input {} is not a list of same ring elements'.format(coeffs))\n",
    "        if len(coeffs) != N:\n",
    "            raise ValueError('error')\n",
    "#         if coeffs[N-1].num == 0:\n",
    "#             raise ValueError('error')\n",
    "                \n",
    "    def __eq__(self,other):\n",
    "        return self.N == other.N and self.coeffs == other.coeffs and self.mod == other.mod\n",
    "    \n",
    "    def __add__(self,other):\n",
    "        if self.mod != other.mod:\n",
    "            raise TypeError('We cannot add two polynomials in different rings.')\n",
    "        c = list()\n",
    "        \n",
    "        for i in range(other.N):\n",
    "            c.append(self.coeffs[i]+other.coeffs[i])\n",
    "\n",
    "        return self.__class__(self.N,c,self.mod)\n",
    "        \n",
    "    def __sub__(self,other):\n",
    "        if self.mod != other.mod:\n",
    "            raise TypeError('We cannot add two polynomials in different rings.')\n",
    "        c = list()\n",
    "        for i in range(other.N):\n",
    "            c.append(self.coeffs[i]-other.coeffs[i])\n",
    "        return self.__class__(self.N,c,self.mod)\n",
    "        \n",
    "    def __mul__(self,other):\n",
    "        if self.mod != other.mod:\n",
    "            raise TypeError('We cannot add two polynomials in different rings.')\n",
    "        c = list()\n",
    "        for i in range(self.N): # output polynomial's coefficient\n",
    "            temp = RingElement(0,self.mod)\n",
    "            for j in range (other.N):\n",
    "                temp = temp + (self.coeffs[j]*other.coeffs[(i-j)%self.N])\n",
    "            c.append(temp)\n",
    "        return self.__class__(self.N,c,self.mod)\n",
    "    \n",
    "    def __rmul__(self,coeff):\n",
    "        c = []\n",
    "        temp = RingElement(0,self.mod)\n",
    "        for i in range(self.N):\n",
    "            temp = coeff * self.coeffs[i]\n",
    "            c.append(temp)\n",
    "        return self.__class__(self.N,c,self.mod)\n",
    "            \n",
    "\n",
    "    def deg(self):\n",
    "        degree = self.N\n",
    "        temp = 0\n",
    "        while temp == 0:\n",
    "            degree -= 1\n",
    "            if degree <0:\n",
    "                return 0\n",
    "            temp = self.coeffs[degree].num\n",
    "        return degree\n",
    "    \n",
    "    def poly_div(self, other):\n",
    "        if self.deg() >= other.deg():\n",
    "            mx_coeffs = self.coeffs\n",
    "            mx_deg = self.deg()\n",
    "            mn_coeffs = other.coeffs\n",
    "            mn_deg = other.deg()\n",
    "        else:\n",
    "            mx_coeffs = other.coeffs\n",
    "            mx_deg = other.deg()\n",
    "            mn_coeffs = self.coeffs\n",
    "            mn_deg = self.deg()\n",
    "                        \n",
    "        \n",
    "        q = self.N*[RingElement(0,self.mod)]\n",
    "        r = mx_coeffs\n",
    "        \n",
    "        for i in range(mx_deg - mn_deg+1):\n",
    "            if mx_coeffs[mx_deg-i].num!=0:\n",
    "#                 d = mx_coeffs[mx_deg-i].num/mn_coeffs[mn_deg].num\n",
    "                d = mx_coeffs[mx_deg-i]/mn_coeffs[mn_deg]\n",
    "#                 q[mn_deg-i] = RingElement(d,self.mod)\n",
    "                q[mn_deg-i] = d\n",
    "    #             mx_coeffs[mx_deg-mn_deg-i:mx_deg-i] -= d * mn_coeffs\n",
    "                for k in range(mn_deg+1):\n",
    "                    mx_coeffs[mx_deg-mn_deg-i+k] -= d * mn_coeffs[k]\n",
    "\n",
    "        mn = self.__class__(self.N,mn_coeffs,self.mod)\n",
    "        quotient = self.__class__(self.N,q,self.mod)\n",
    "        remainder = self.__class__(self.N,r,self.mod)\n",
    "        \n",
    "        return mn, quotient, remainder\n",
    "\n",
    "    def Euclidean(self,other):\n",
    "        a = self\n",
    "        b = other\n",
    "        while b.coeffs != self.N * [RingElement(0,self.mod)]:\n",
    "            a, q, b = a.poly_div(b)\n",
    "            for i in range(self.N):\n",
    "                print(a.coeffs[i].num, q.coeffs[i].num, b.coeffs[i].num)\n",
    "        return a\n",
    "    \n",
    "    def ExtendedEuclidean(self,other):\n",
    "        a = self\n",
    "        b = other\n",
    "        one_coeffs = [RingElement(1,self.mod)] + (self.N-1) * [RingElement(0,self.mod)]\n",
    "        one = self.__class__(self.N,one_coeffs,self.mod)\n",
    "        zero_coeffs = self.N * [RingElement(0,self.mod)]\n",
    "        zero = self.__class__(self.N,zero_coeffs,self.mod)\n",
    "        M = [[one,zero],[zero,one]]\n",
    "        while b.coeffs != self.N * [RingElement(0,self.mod)]:\n",
    "            a,q,b = a.poly_div(b)\n",
    "            M = [[M[1][0], M[1][1]],[M[0][0]-q*M[1][0], M[0][1]-q*M[1][1]]]\n",
    "        return a, M[0][0], M[0][1]\n",
    "        \n",
    "#     def invpoly(self,other):\n",
    "#         gcd, _, coeff = ExtendedEuclidean()\n",
    "        \n",
    "        "
   ]
  },
  {
   "cell_type": "code",
   "execution_count": 3,
   "metadata": {
    "ExecuteTime": {
     "end_time": "2021-10-11T04:13:57.996296Z",
     "start_time": "2021-10-11T04:13:57.981337Z"
    }
   },
   "outputs": [
    {
     "name": "stdout",
     "output_type": "stream",
     "text": [
      "1 0 4\n",
      "2 5 5\n",
      "1 0 3\n",
      "0 0 0\n",
      "0 0 0\n",
      "0\n",
      "5\n",
      "0\n",
      "0\n",
      "0\n"
     ]
    }
   ],
   "source": [
    "a0 = RingElement(0,7)\n",
    "a1 = RingElement(1,7)\n",
    "a2 = RingElement(2,7)\n",
    "a3 = RingElement(3,7)\n",
    "a4 = RingElement(4,7)\n",
    "\n",
    "f = PolyRing(5,[a4,a4,a3,a4,a3],7)\n",
    "g = PolyRing(5,[a1,a2,a1,a0,a0],7)\n",
    "\n",
    "A,qq,rr = f.poly_div(g)\n",
    "\n",
    "for i in range(A.N):\n",
    "    print(A.coeffs[i].num, rr.coeffs[i].num, qq.coeffs[i].num)\n",
    "\n",
    "for i in range(f.N):\n",
    "    print(f.coeffs[i].num)\n",
    "    \n",
    "# B = A*qq + rr\n",
    "\n",
    "# for i in range(B.N):\n",
    "#     print(B.coeffs[i].num)"
   ]
  },
  {
   "cell_type": "code",
   "execution_count": 6,
   "metadata": {
    "ExecuteTime": {
     "end_time": "2021-10-11T04:14:14.136584Z",
     "start_time": "2021-10-11T04:14:14.126576Z"
    }
   },
   "outputs": [
    {
     "data": {
      "text/plain": [
       "<__main__.PolyRing at 0x1f4c99cef88>"
      ]
     },
     "execution_count": 6,
     "metadata": {},
     "output_type": "execute_result"
    }
   ],
   "source": [
    "f = PolyRing(5,[a4,a4,a3,a4,a3],7)\n",
    "g = PolyRing(5,[a1,a2,a1,a0,a0],7)\n",
    "\n",
    "f-g\n",
    "\n",
    "# dd,mm = f.ExtendedEuclidean(g)\n",
    "\n",
    "# for i in range(C.N):\n",
    "#     print(C.coeffs[i].num)"
   ]
  },
  {
   "cell_type": "code",
   "execution_count": 7,
   "metadata": {
    "ExecuteTime": {
     "end_time": "2021-10-11T04:14:16.116137Z",
     "start_time": "2021-10-11T04:14:16.108672Z"
    }
   },
   "outputs": [
    {
     "name": "stdout",
     "output_type": "stream",
     "text": [
      "1 3 0\n",
      "0 4 0\n",
      "0 4 0\n",
      "0 3 0\n",
      "0 4 0\n",
      "1\n",
      "0\n",
      "0\n",
      "0\n",
      "0\n"
     ]
    }
   ],
   "source": [
    "a7 = RingElement(7,7)\n",
    "f = PolyRing(5,[a4,a4,a3,a4,a3],7)\n",
    "g = PolyRing(5,[a1,a7,a7,a7,a7],7)\n",
    "\n",
    "C = f.Euclidean(g)\n",
    "\n",
    "for i in range(C.N):\n",
    "    print(C.coeffs[i].num)"
   ]
  },
  {
   "cell_type": "code",
   "execution_count": 8,
   "metadata": {
    "ExecuteTime": {
     "end_time": "2021-10-11T04:14:18.040129Z",
     "start_time": "2021-10-11T04:14:18.033143Z"
    }
   },
   "outputs": [
    {
     "data": {
      "text/plain": [
       "True"
      ]
     },
     "execution_count": 8,
     "metadata": {},
     "output_type": "execute_result"
    }
   ],
   "source": [
    "M = [[f,g], [g,f]]\n",
    "\n",
    "M[1][1] == f"
   ]
  },
  {
   "cell_type": "code",
   "execution_count": 9,
   "metadata": {
    "ExecuteTime": {
     "end_time": "2021-10-11T04:14:18.572543Z",
     "start_time": "2021-10-11T04:14:18.562112Z"
    }
   },
   "outputs": [
    {
     "data": {
      "text/plain": [
       "[[4, 7], [1, 3]]"
      ]
     },
     "execution_count": 9,
     "metadata": {},
     "output_type": "execute_result"
    }
   ],
   "source": [
    "M = [[1,2],[3,4]]\n",
    "M = [[M[1][1],M[1][0]+M[1][1]],[M[0][0],M[1][0]]]\n",
    "M"
   ]
  },
  {
   "cell_type": "code",
   "execution_count": null,
   "metadata": {},
   "outputs": [],
   "source": []
  }
 ],
 "metadata": {
  "kernelspec": {
   "display_name": "Python 3",
   "language": "python",
   "name": "python3"
  },
  "language_info": {
   "codemirror_mode": {
    "name": "ipython",
    "version": 3
   },
   "file_extension": ".py",
   "mimetype": "text/x-python",
   "name": "python",
   "nbconvert_exporter": "python",
   "pygments_lexer": "ipython3",
   "version": "3.7.4"
  },
  "toc": {
   "base_numbering": 1,
   "nav_menu": {},
   "number_sections": true,
   "sideBar": true,
   "skip_h1_title": false,
   "title_cell": "Table of Contents",
   "title_sidebar": "Contents",
   "toc_cell": false,
   "toc_position": {},
   "toc_section_display": true,
   "toc_window_display": false
  },
  "varInspector": {
   "cols": {
    "lenName": 16,
    "lenType": 16,
    "lenVar": 40
   },
   "kernels_config": {
    "python": {
     "delete_cmd_postfix": "",
     "delete_cmd_prefix": "del ",
     "library": "var_list.py",
     "varRefreshCmd": "print(var_dic_list())"
    },
    "r": {
     "delete_cmd_postfix": ") ",
     "delete_cmd_prefix": "rm(",
     "library": "var_list.r",
     "varRefreshCmd": "cat(var_dic_list()) "
    }
   },
   "types_to_exclude": [
    "module",
    "function",
    "builtin_function_or_method",
    "instance",
    "_Feature"
   ],
   "window_display": false
  }
 },
 "nbformat": 4,
 "nbformat_minor": 2
}
