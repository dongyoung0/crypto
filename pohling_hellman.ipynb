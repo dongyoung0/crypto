{
 "cells": [
  {
   "cell_type": "code",
   "execution_count": 5,
   "metadata": {
    "ExecuteTime": {
     "end_time": "2021-10-11T08:04:54.131264Z",
     "start_time": "2021-10-11T08:04:54.073626Z"
    },
    "lines_to_next_cell": 2
   },
   "outputs": [],
   "source": [
    "#import BasicNumTest as bnt\n",
    "import BNT as bnt\n",
    "import numpy as np\n",
    "import time\n",
    "\n",
    "def Sub_DLP(a,b,p,q,r):\n",
    "    if (p-1)%(q**r) !=0:\n",
    "        print(\"errored input\")\n",
    "        return 0\n",
    "    else:\n",
    "        A = bnt.Exp(a,(p-1)//q,p)\n",
    "        x = np.zeros(r)\n",
    "        X = 0\n",
    "        for i in range(r):\n",
    "            if i == 0:\n",
    "                b1 = b\n",
    "            else:\n",
    "                b1 = b1*bnt.Exp(a,(p-1)-int(x[i-1]),p)%p\n",
    "            B = bnt.Exp(b1,(p-1)//(q**(i+1)),p)\n",
    "            temp = bnt.BSGS_adv(A,B,p) # A is not a primitive root\n",
    "            if temp == 0:\n",
    "                x[i] = q\n",
    "            else:\n",
    "                x[i] = temp\n",
    "            X +=x[i]*(q**i)\n",
    "        return X%(q**r)\n",
    "def Factoring(p):\n",
    "    p_factors = bnt.factoring(p)\n",
    "    r = np.ones(len(p_factors))\n",
    "    i = 0\n",
    "    for q in p_factors:\n",
    "        while p%(q**r[i]) == 0:\n",
    "            r[i] +=1\n",
    "        r[i] -=1\n",
    "        i +=1 \n",
    "    return p_factors, r\n",
    "\n",
    "def Pohlig_Hellman(a,b,p):\n",
    "    p_factors, r = Factoring(p-1)\n",
    "    x = np.zeros(len(p_factors))\n",
    "    factors = np.zeros(len(p_factors))\n",
    "    for i in range(len(p_factors)):\n",
    "        x[i] = int(Sub_DLP(a,b,p,int(p_factors[i]),int(r[i])))\n",
    "        \n",
    "    for j in range(len(p_factors)):\n",
    "        factors[j] = p_factors[j]**r[j]\n",
    "    sol = bnt.CRT_general(x,factors)\n",
    "    return sol"
   ]
  },
  {
   "cell_type": "code",
   "execution_count": 6,
   "metadata": {
    "ExecuteTime": {
     "end_time": "2021-10-11T08:04:59.135222Z",
     "start_time": "2021-10-11T08:04:54.665107Z"
    },
    "lines_to_next_cell": 2
   },
   "outputs": [
    {
     "name": "stdout",
     "output_type": "stream",
     "text": [
      "p: 5119\n",
      "a: 3607\n",
      "b: 109\n",
      "x: 116\n",
      "PH T/F: True time: 2.5846123695373535\n",
      "advanced T/F: True time: 0.0\n"
     ]
    }
   ],
   "source": [
    "\n",
    "\n",
    "p = bnt.Prime_Gen(10000) # 2^30크기 보통 사용하는 소수는 2^128정도\n",
    "a = bnt.Primitive_Gen(p)\n",
    "x = bnt.Bigrand(1,p-1)\n",
    "b = bnt.Exp(a,x,p)\n",
    "print('p:',p)\n",
    "print('a:',a)\n",
    "print('b:',b)\n",
    "print('x:',x)\n",
    "start = time.time()\n",
    "print('PH T/F:',x==Pohlig_Hellman(a,b,p),'time:',time.time()-start)\n",
    "start = time.time()    \n",
    "print('advanced T/F:',x==bnt.BSGS_adv(a,b,p),'time:',time.time()-start)\n",
    "# print('naive T/F:',x==BSGS_naive(a,b,p))"
   ]
  },
  {
   "cell_type": "code",
   "execution_count": 7,
   "metadata": {
    "ExecuteTime": {
     "end_time": "2021-10-11T08:04:59.210208Z",
     "start_time": "2021-10-11T08:04:59.178128Z"
    },
    "lines_to_next_cell": 2
   },
   "outputs": [],
   "source": [
    "\n",
    "\n",
    "q1 = bnt.Prime_Gen(1000)\n",
    "q2 = bnt.Prime_Gen(1000)\n",
    "p = bnt.MR_PT(1+q1**4*q2**4)"
   ]
  },
  {
   "cell_type": "code",
   "execution_count": 8,
   "metadata": {
    "ExecuteTime": {
     "end_time": "2021-10-11T08:05:00.158798Z",
     "start_time": "2021-10-11T08:05:00.142079Z"
    },
    "lines_to_next_cell": 2
   },
   "outputs": [
    {
     "data": {
      "text/plain": [
       "4.0"
      ]
     },
     "execution_count": 8,
     "metadata": {},
     "output_type": "execute_result"
    }
   ],
   "source": [
    "\n",
    "\n",
    "Sub_DLP(413,562,593,2,4)"
   ]
  },
  {
   "cell_type": "code",
   "execution_count": 9,
   "metadata": {
    "ExecuteTime": {
     "end_time": "2021-10-11T08:05:01.080747Z",
     "start_time": "2021-10-11T08:05:01.064660Z"
    },
    "lines_to_next_cell": 2
   },
   "outputs": [
    {
     "data": {
      "text/plain": [
       "0"
      ]
     },
     "execution_count": 9,
     "metadata": {},
     "output_type": "execute_result"
    }
   ],
   "source": [
    "\n",
    "\n",
    "592%2**4"
   ]
  },
  {
   "cell_type": "code",
   "execution_count": 10,
   "metadata": {
    "ExecuteTime": {
     "end_time": "2021-10-11T08:05:06.508772Z",
     "start_time": "2021-10-11T08:05:01.453612Z"
    },
    "lines_to_next_cell": 2
   },
   "outputs": [
    {
     "data": {
      "text/plain": [
       "[11, 13]"
      ]
     },
     "execution_count": 10,
     "metadata": {},
     "output_type": "execute_result"
    }
   ],
   "source": [
    "\n",
    "\n",
    "bnt.factoring(13**10*11**15)"
   ]
  },
  {
   "cell_type": "code",
   "execution_count": 11,
   "metadata": {
    "ExecuteTime": {
     "end_time": "2021-10-11T08:05:09.066851Z",
     "start_time": "2021-10-11T08:05:06.533484Z"
    },
    "lines_to_next_cell": 2
   },
   "outputs": [
    {
     "data": {
      "text/plain": [
       "[11, 13]"
      ]
     },
     "execution_count": 11,
     "metadata": {},
     "output_type": "execute_result"
    }
   ],
   "source": [
    "\n",
    "\n",
    "bnt.Pre_factor(13**12*11**15)"
   ]
  },
  {
   "cell_type": "code",
   "execution_count": 12,
   "metadata": {
    "ExecuteTime": {
     "end_time": "2021-10-11T08:05:09.113202Z",
     "start_time": "2021-10-11T08:05:09.095895Z"
    },
    "lines_to_next_cell": 2
   },
   "outputs": [
    {
     "data": {
      "text/plain": [
       "4"
      ]
     },
     "execution_count": 12,
     "metadata": {},
     "output_type": "execute_result"
    }
   ],
   "source": [
    "\n",
    "\n",
    "bnt.BSGS_naive(10,1,11)"
   ]
  },
  {
   "cell_type": "code",
   "execution_count": 13,
   "metadata": {
    "ExecuteTime": {
     "end_time": "2021-10-11T08:05:09.154300Z",
     "start_time": "2021-10-11T08:05:09.135414Z"
    },
    "lines_to_next_cell": 2
   },
   "outputs": [
    {
     "data": {
      "text/plain": [
       "3"
      ]
     },
     "execution_count": 13,
     "metadata": {},
     "output_type": "execute_result"
    }
   ],
   "source": [
    "\n",
    "\n",
    "bnt.Exp(3,1,11)"
   ]
  },
  {
   "cell_type": "code",
   "execution_count": 14,
   "metadata": {
    "ExecuteTime": {
     "end_time": "2021-10-11T08:05:09.201694Z",
     "start_time": "2021-10-11T08:05:09.184024Z"
    },
    "lines_to_next_cell": 2
   },
   "outputs": [
    {
     "data": {
      "text/plain": [
       "52"
      ]
     },
     "execution_count": 14,
     "metadata": {},
     "output_type": "execute_result"
    }
   ],
   "source": [
    "\n",
    "\n",
    "a = np.array([1,2,3])\n",
    "p = np.array([3,5,7])\n",
    "bnt.CRT_general(a,p)"
   ]
  },
  {
   "cell_type": "code",
   "execution_count": 16,
   "metadata": {
    "ExecuteTime": {
     "end_time": "2021-10-11T08:05:17.678716Z",
     "start_time": "2021-10-11T08:05:17.634052Z"
    },
    "lines_to_next_cell": 2
   },
   "outputs": [
    {
     "name": "stdout",
     "output_type": "stream",
     "text": [
      "i 0 1\n",
      "i 1 592\n",
      "i 2 392\n",
      "i 3 384\n",
      "x [26. 25.  0.  0.] X 76.0\n"
     ]
    }
   ],
   "source": [
    "\n",
    "\n",
    "a = 413\n",
    "b = 562\n",
    "p =593\n",
    "q =2\n",
    "r =4    \n",
    "\n",
    "A = bnt.Exp(a,(p-1)//q,p)\n",
    "# print('A',A)\n",
    "x = np.zeros(r)\n",
    "# print('x',x)\n",
    "X = 0\n",
    "for i in range(r):\n",
    "    if i == 0:\n",
    "        b1 = b\n",
    "    else:\n",
    "        b1 = b1*bnt.Exp(a,(p-1)-int(x[i-1]),p)%p\n",
    "    B = bnt.Exp(b1,(p-1)//(q**(i+1)),p)\n",
    "    print('i',i,B)\n",
    "    temp = bnt.BSGS_adv(A,B,p)\n",
    "    x[i] = temp\n",
    "    X +=x[i]*(q**i)\n",
    "print('x',x,'X',X)\n",
    "# return X%(q**r)"
   ]
  },
  {
   "cell_type": "code",
   "execution_count": 17,
   "metadata": {
    "ExecuteTime": {
     "end_time": "2021-10-11T08:05:20.597002Z",
     "start_time": "2021-10-11T08:05:20.576695Z"
    },
    "lines_to_next_cell": 2
   },
   "outputs": [
    {
     "name": "stdout",
     "output_type": "stream",
     "text": [
      "0\n"
     ]
    }
   ],
   "source": [
    "\n",
    "\n",
    "def BSGS_adv(a,b,p):\n",
    "    N = int(np.sqrt(p-1))+1\n",
    "    GS = np.zeros(N)\n",
    "    for k in range(N):\n",
    "        GS[k] = b*bnt.Exp(a,2*(p-1)-k*N,p)%p\n",
    "#     print(GS)    s\n",
    "    for j in range(N):\n",
    "        c = bnt.Exp(a,p-1+j,p)\n",
    "#         print('c',c)\n",
    "        x = np.where(GS==c)\n",
    "#         print('x',x)\n",
    "        if np.shape(x)!=(1,0):\n",
    "            if not (j==0 and x[0][0]==0):\n",
    "#                 print('find')\n",
    "                return(x[0][0]*N+j)%(p-1)  \n",
    "    return 0\n",
    "\n",
    "print(bnt.BSGS_adv(592,392,593))"
   ]
  },
  {
   "cell_type": "code",
   "execution_count": 22,
   "metadata": {
    "ExecuteTime": {
     "end_time": "2021-10-11T08:06:36.526545Z",
     "start_time": "2021-10-11T08:06:36.498298Z"
    },
    "lines_to_next_cell": 2
   },
   "outputs": [
    {
     "ename": "IndentationError",
     "evalue": "unexpected indent (<ipython-input-22-bbfa5c8337cf>, line 14)",
     "output_type": "error",
     "traceback": [
      "\u001b[1;36m  File \u001b[1;32m\"<ipython-input-22-bbfa5c8337cf>\"\u001b[1;36m, line \u001b[1;32m14\u001b[0m\n\u001b[1;33m    print('c',c)\u001b[0m\n\u001b[1;37m    ^\u001b[0m\n\u001b[1;31mIndentationError\u001b[0m\u001b[1;31m:\u001b[0m unexpected indent\n"
     ]
    }
   ],
   "source": [
    "a = 591\n",
    "b = 392\n",
    "\n",
    "a = 592 #= -1\n",
    "b = 392 #= even\n",
    "p = 593\n",
    "N = int(np.sqrt(p-1))+1\n",
    "GS = np.zeros(N)\n",
    "for k in range(N):\n",
    "    GS[k] = b*bnt.Exp(a,2*(p-1)-k*N,p)%p\n",
    "    print(GS)    #s\n",
    "for j in range(N):\n",
    "    c = bnt.Exp(a,p-1+j,p)\n",
    "        print('c',c)\n",
    "    x = np.where(GS==c)\n",
    "        print('x',x)\n",
    "    if np.shape(x)!=(1,0):\n",
    "        if not (j==0 and x[0][0]==0):\n",
    "            print('find')\n",
    "            print((x[0][0]*N+j)%(p-1)  )\n",
    "print('end')\n",
    "# return 0"
   ]
  },
  {
   "cell_type": "code",
   "execution_count": null,
   "metadata": {
    "lines_to_next_cell": 2
   },
   "outputs": [],
   "source": [
    "\n",
    "\n"
   ]
  }
 ],
 "metadata": {
  "jupytext": {
   "cell_metadata_filter": "-all",
   "encoding": "# -*- coding: utf-8 -*-",
   "notebook_metadata_filter": "-all",
   "text_representation": {
    "extension": ".py",
    "format_name": "percent"
   }
  },
  "kernelspec": {
   "display_name": "Python 3",
   "language": "python",
   "name": "python3"
  },
  "language_info": {
   "codemirror_mode": {
    "name": "ipython",
    "version": 3
   },
   "file_extension": ".py",
   "mimetype": "text/x-python",
   "name": "python",
   "nbconvert_exporter": "python",
   "pygments_lexer": "ipython3",
   "version": "3.7.4"
  },
  "toc": {
   "base_numbering": 1,
   "nav_menu": {},
   "number_sections": true,
   "sideBar": true,
   "skip_h1_title": false,
   "title_cell": "Table of Contents",
   "title_sidebar": "Contents",
   "toc_cell": false,
   "toc_position": {},
   "toc_section_display": true,
   "toc_window_display": false
  },
  "varInspector": {
   "cols": {
    "lenName": 16,
    "lenType": 16,
    "lenVar": 40
   },
   "kernels_config": {
    "python": {
     "delete_cmd_postfix": "",
     "delete_cmd_prefix": "del ",
     "library": "var_list.py",
     "varRefreshCmd": "print(var_dic_list())"
    },
    "r": {
     "delete_cmd_postfix": ") ",
     "delete_cmd_prefix": "rm(",
     "library": "var_list.r",
     "varRefreshCmd": "cat(var_dic_list()) "
    }
   },
   "types_to_exclude": [
    "module",
    "function",
    "builtin_function_or_method",
    "instance",
    "_Feature"
   ],
   "window_display": false
  }
 },
 "nbformat": 4,
 "nbformat_minor": 2
}
