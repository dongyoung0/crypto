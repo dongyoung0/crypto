{
 "cells": [
  {
   "cell_type": "code",
   "execution_count": 3,
   "metadata": {
    "ExecuteTime": {
     "end_time": "2021-10-11T08:10:12.057140Z",
     "start_time": "2021-10-11T08:10:12.032347Z"
    },
    "lines_to_next_cell": 2
   },
   "outputs": [],
   "source": [
    "#import BasicNumTest as bnt\n",
    "import BNT as bnt\n",
    "import numpy as np\n",
    "import time\n",
    "\n",
    "def Sub_DLP(a,b,p,q,r):\n",
    "    if (p-1)%(q**r) !=0:\n",
    "        print(\"errored input\")\n",
    "        return 0\n",
    "    else:\n",
    "        A = bnt.Exp(a,(p-1)//q,p)\n",
    "        x = np.zeros(r)\n",
    "        X = 0\n",
    "        for i in range(r):\n",
    "            if i == 0:\n",
    "                b1 = b\n",
    "            else:\n",
    "                b1 = b1*bnt.Exp(a,(p-1)-int(x[i-1]),p)%p\n",
    "            B = bnt.Exp(b1,(p-1)//(q**(i+1)),p)\n",
    "            temp = bnt.BSGS_adv(A,B,p) # A is not a primitive root\n",
    "            if temp == 0:\n",
    "                x[i] = q\n",
    "            else:\n",
    "                x[i] = temp\n",
    "            X +=x[i]*(q**i)\n",
    "        return X%(q**r)\n",
    "def Factoring(p):\n",
    "    p_factors = bnt.factoring(p)\n",
    "    r = np.ones(len(p_factors))\n",
    "    i = 0\n",
    "    for q in p_factors:\n",
    "        while p%(q**r[i]) == 0:\n",
    "            r[i] +=1\n",
    "        r[i] -=1\n",
    "        i +=1 \n",
    "    return p_factors, r\n",
    "\n",
    "def Pohlig_Hellman(a,b,p):\n",
    "    p_factors, r = Factoring(p-1)\n",
    "    x = np.zeros(len(p_factors))\n",
    "    factors = np.zeros(len(p_factors))\n",
    "    for i in range(len(p_factors)):\n",
    "        x[i] = int(Sub_DLP(a,b,p,int(p_factors[i]),int(r[i])))\n",
    "        \n",
    "    for j in range(len(p_factors)):\n",
    "        factors[j] = p_factors[j]**r[j]\n",
    "    sol = bnt.CRT_general(x,factors)\n",
    "    return sol"
   ]
  },
  {
   "cell_type": "code",
   "execution_count": 4,
   "metadata": {
    "ExecuteTime": {
     "end_time": "2021-10-11T08:10:21.150822Z",
     "start_time": "2021-10-11T08:10:12.553461Z"
    },
    "lines_to_next_cell": 2
   },
   "outputs": [
    {
     "name": "stdout",
     "output_type": "stream",
     "text": [
      "p: 5573\n",
      "a: 3460\n",
      "b: 3636\n",
      "x: 1343\n",
      "PH T/F: True time: 4.5530760288238525\n",
      "advanced T/F: True time: 0.0\n"
     ]
    }
   ],
   "source": [
    "p = bnt.Prime_Gen(10000) # 2^30크기 보통 사용하는 소수는 2^128정도\n",
    "a = bnt.Primitive_Gen(p)\n",
    "x = bnt.Bigrand(1,p-1)\n",
    "b = bnt.Exp(a,x,p)\n",
    "print('p:',p)\n",
    "print('a:',a)\n",
    "print('b:',b)\n",
    "print('x:',x)\n",
    "start = time.time()\n",
    "print('PH T/F:',x==Pohlig_Hellman(a,b,p),'time:',time.time()-start)\n",
    "start = time.time()    \n",
    "print('advanced T/F:',x==bnt.BSGS_adv(a,b,p),'time:',time.time()-start)\n",
    "# print('naive T/F:',x==BSGS_naive(a,b,p))"
   ]
  },
  {
   "cell_type": "code",
   "execution_count": 5,
   "metadata": {
    "ExecuteTime": {
     "end_time": "2021-10-11T08:10:23.482799Z",
     "start_time": "2021-10-11T08:10:23.468608Z"
    },
    "lines_to_next_cell": 2
   },
   "outputs": [],
   "source": [
    "q1 = bnt.Prime_Gen(1000)\n",
    "q2 = bnt.Prime_Gen(1000)\n",
    "p = bnt.MR_PT(1+q1**4*q2**4)"
   ]
  },
  {
   "cell_type": "code",
   "execution_count": 6,
   "metadata": {
    "ExecuteTime": {
     "end_time": "2021-10-11T08:10:24.116977Z",
     "start_time": "2021-10-11T08:10:24.093390Z"
    },
    "lines_to_next_cell": 2
   },
   "outputs": [
    {
     "data": {
      "text/plain": [
       "4.0"
      ]
     },
     "execution_count": 6,
     "metadata": {},
     "output_type": "execute_result"
    }
   ],
   "source": [
    "Sub_DLP(413,562,593,2,4)"
   ]
  },
  {
   "cell_type": "code",
   "execution_count": 7,
   "metadata": {
    "ExecuteTime": {
     "end_time": "2021-10-11T08:10:24.563900Z",
     "start_time": "2021-10-11T08:10:24.550545Z"
    },
    "lines_to_next_cell": 2
   },
   "outputs": [
    {
     "data": {
      "text/plain": [
       "0"
      ]
     },
     "execution_count": 7,
     "metadata": {},
     "output_type": "execute_result"
    }
   ],
   "source": [
    "592%2**4"
   ]
  },
  {
   "cell_type": "code",
   "execution_count": 8,
   "metadata": {
    "ExecuteTime": {
     "end_time": "2021-10-11T08:10:29.264809Z",
     "start_time": "2021-10-11T08:10:25.109120Z"
    },
    "lines_to_next_cell": 2
   },
   "outputs": [
    {
     "data": {
      "text/plain": [
       "[11, 13]"
      ]
     },
     "execution_count": 8,
     "metadata": {},
     "output_type": "execute_result"
    }
   ],
   "source": [
    "bnt.factoring(13**10*11**15)"
   ]
  },
  {
   "cell_type": "code",
   "execution_count": 9,
   "metadata": {
    "ExecuteTime": {
     "end_time": "2021-10-11T08:10:34.421310Z",
     "start_time": "2021-10-11T08:10:32.315099Z"
    },
    "lines_to_next_cell": 2
   },
   "outputs": [
    {
     "data": {
      "text/plain": [
       "[11, 13]"
      ]
     },
     "execution_count": 9,
     "metadata": {},
     "output_type": "execute_result"
    }
   ],
   "source": [
    "bnt.Pre_factor(13**12*11**15)"
   ]
  },
  {
   "cell_type": "code",
   "execution_count": 10,
   "metadata": {
    "ExecuteTime": {
     "end_time": "2021-10-11T08:10:34.466064Z",
     "start_time": "2021-10-11T08:10:34.450320Z"
    },
    "lines_to_next_cell": 2
   },
   "outputs": [
    {
     "data": {
      "text/plain": [
       "4"
      ]
     },
     "execution_count": 10,
     "metadata": {},
     "output_type": "execute_result"
    }
   ],
   "source": [
    "bnt.BSGS_naive(10,1,11)"
   ]
  },
  {
   "cell_type": "code",
   "execution_count": 11,
   "metadata": {
    "ExecuteTime": {
     "end_time": "2021-10-11T08:10:46.318489Z",
     "start_time": "2021-10-11T08:10:46.309371Z"
    },
    "lines_to_next_cell": 2
   },
   "outputs": [
    {
     "data": {
      "text/plain": [
       "3"
      ]
     },
     "execution_count": 11,
     "metadata": {},
     "output_type": "execute_result"
    }
   ],
   "source": [
    "bnt.Exp(3,1,11)"
   ]
  },
  {
   "cell_type": "code",
   "execution_count": 12,
   "metadata": {
    "ExecuteTime": {
     "end_time": "2021-10-11T08:10:46.934716Z",
     "start_time": "2021-10-11T08:10:46.902754Z"
    },
    "lines_to_next_cell": 2
   },
   "outputs": [
    {
     "data": {
      "text/plain": [
       "52"
      ]
     },
     "execution_count": 12,
     "metadata": {},
     "output_type": "execute_result"
    }
   ],
   "source": [
    "a = np.array([1,2,3])\n",
    "p = np.array([3,5,7])\n",
    "bnt.CRT_general(a,p)"
   ]
  },
  {
   "cell_type": "code",
   "execution_count": 13,
   "metadata": {
    "ExecuteTime": {
     "end_time": "2021-10-11T08:10:50.332730Z",
     "start_time": "2021-10-11T08:10:50.307928Z"
    },
    "lines_to_next_cell": 2
   },
   "outputs": [
    {
     "name": "stdout",
     "output_type": "stream",
     "text": [
      "i 0 1\n",
      "i 1 592\n",
      "i 2 392\n",
      "i 3 384\n",
      "x [26. 25.  0.  0.] X 76.0\n"
     ]
    }
   ],
   "source": [
    "a = 413\n",
    "b = 562\n",
    "p =593\n",
    "q =2\n",
    "r =4    \n",
    "\n",
    "A = bnt.Exp(a,(p-1)//q,p)\n",
    "# print('A',A)\n",
    "x = np.zeros(r)\n",
    "# print('x',x)\n",
    "X = 0\n",
    "for i in range(r):\n",
    "    if i == 0:\n",
    "        b1 = b\n",
    "    else:\n",
    "        b1 = b1*bnt.Exp(a,(p-1)-int(x[i-1]),p)%p\n",
    "    B = bnt.Exp(b1,(p-1)//(q**(i+1)),p)\n",
    "    print('i',i,B)\n",
    "    temp = bnt.BSGS_adv(A,B,p)\n",
    "    x[i] = temp\n",
    "    X +=x[i]*(q**i)\n",
    "print('x',x,'X',X)\n",
    "# return X%(q**r)"
   ]
  },
  {
   "cell_type": "code",
   "execution_count": 14,
   "metadata": {
    "ExecuteTime": {
     "end_time": "2021-10-11T08:10:52.872534Z",
     "start_time": "2021-10-11T08:10:52.848953Z"
    },
    "lines_to_next_cell": 2
   },
   "outputs": [
    {
     "name": "stdout",
     "output_type": "stream",
     "text": [
      "0\n"
     ]
    }
   ],
   "source": [
    "def BSGS_adv(a,b,p):\n",
    "    N = int(np.sqrt(p-1))+1\n",
    "    GS = np.zeros(N)\n",
    "    for k in range(N):\n",
    "        GS[k] = b*bnt.Exp(a,2*(p-1)-k*N,p)%p\n",
    "#     print(GS)    s\n",
    "    for j in range(N):\n",
    "        c = bnt.Exp(a,p-1+j,p)\n",
    "#         print('c',c)\n",
    "        x = np.where(GS==c)\n",
    "#         print('x',x)\n",
    "        if np.shape(x)!=(1,0):\n",
    "            if not (j==0 and x[0][0]==0):\n",
    "#                 print('find')\n",
    "                return(x[0][0]*N+j)%(p-1)  \n",
    "    return 0\n",
    "\n",
    "print(bnt.BSGS_adv(592,392,593))"
   ]
  },
  {
   "cell_type": "code",
   "execution_count": 16,
   "metadata": {
    "ExecuteTime": {
     "end_time": "2021-10-11T08:11:10.433412Z",
     "start_time": "2021-10-11T08:11:10.362346Z"
    },
    "lines_to_next_cell": 2
   },
   "outputs": [
    {
     "name": "stdout",
     "output_type": "stream",
     "text": [
      "[392.   0.   0.   0.   0.   0.   0.   0.   0.   0.   0.   0.   0.   0.\n",
      "   0.   0.   0.   0.   0.   0.   0.   0.   0.   0.   0.]\n",
      "[392. 313.   0.   0.   0.   0.   0.   0.   0.   0.   0.   0.   0.   0.\n",
      "   0.   0.   0.   0.   0.   0.   0.   0.   0.   0.   0.]\n",
      "[392. 313. 200.   0.   0.   0.   0.   0.   0.   0.   0.   0.   0.   0.\n",
      "   0.   0.   0.   0.   0.   0.   0.   0.   0.   0.   0.]\n",
      "[392. 313. 200. 196.   0.   0.   0.   0.   0.   0.   0.   0.   0.   0.\n",
      "   0.   0.   0.   0.   0.   0.   0.   0.   0.   0.   0.]\n",
      "[392. 313. 200. 196. 453.   0.   0.   0.   0.   0.   0.   0.   0.   0.\n",
      "   0.   0.   0.   0.   0.   0.   0.   0.   0.   0.   0.]\n",
      "[392. 313. 200. 196. 453. 100.   0.   0.   0.   0.   0.   0.   0.   0.\n",
      "   0.   0.   0.   0.   0.   0.   0.   0.   0.   0.   0.]\n",
      "[392. 313. 200. 196. 453. 100.  98.   0.   0.   0.   0.   0.   0.   0.\n",
      "   0.   0.   0.   0.   0.   0.   0.   0.   0.   0.   0.]\n",
      "[392. 313. 200. 196. 453. 100.  98. 523.   0.   0.   0.   0.   0.   0.\n",
      "   0.   0.   0.   0.   0.   0.   0.   0.   0.   0.   0.]\n",
      "[392. 313. 200. 196. 453. 100.  98. 523.  50.   0.   0.   0.   0.   0.\n",
      "   0.   0.   0.   0.   0.   0.   0.   0.   0.   0.   0.]\n",
      "[392. 313. 200. 196. 453. 100.  98. 523.  50.  49.   0.   0.   0.   0.\n",
      "   0.   0.   0.   0.   0.   0.   0.   0.   0.   0.   0.]\n",
      "[392. 313. 200. 196. 453. 100.  98. 523.  50.  49. 558.   0.   0.   0.\n",
      "   0.   0.   0.   0.   0.   0.   0.   0.   0.   0.   0.]\n",
      "[392. 313. 200. 196. 453. 100.  98. 523.  50.  49. 558.  25.   0.   0.\n",
      "   0.   0.   0.   0.   0.   0.   0.   0.   0.   0.   0.]\n",
      "[392. 313. 200. 196. 453. 100.  98. 523.  50.  49. 558.  25. 321.   0.\n",
      "   0.   0.   0.   0.   0.   0.   0.   0.   0.   0.   0.]\n",
      "[392. 313. 200. 196. 453. 100.  98. 523.  50.  49. 558.  25. 321. 279.\n",
      "   0.   0.   0.   0.   0.   0.   0.   0.   0.   0.   0.]\n",
      "[392. 313. 200. 196. 453. 100.  98. 523.  50.  49. 558.  25. 321. 279.\n",
      " 309.   0.   0.   0.   0.   0.   0.   0.   0.   0.   0.]\n",
      "[392. 313. 200. 196. 453. 100.  98. 523.  50.  49. 558.  25. 321. 279.\n",
      " 309. 457.   0.   0.   0.   0.   0.   0.   0.   0.   0.]\n",
      "[392. 313. 200. 196. 453. 100.  98. 523.  50.  49. 558.  25. 321. 279.\n",
      " 309. 457. 436.   0.   0.   0.   0.   0.   0.   0.   0.]\n",
      "[392. 313. 200. 196. 453. 100.  98. 523.  50.  49. 558.  25. 321. 279.\n",
      " 309. 457. 436. 451.   0.   0.   0.   0.   0.   0.   0.]\n",
      "[392. 313. 200. 196. 453. 100.  98. 523.  50.  49. 558.  25. 321. 279.\n",
      " 309. 457. 436. 451. 525.   0.   0.   0.   0.   0.   0.]\n",
      "[392. 313. 200. 196. 453. 100.  98. 523.  50.  49. 558.  25. 321. 279.\n",
      " 309. 457. 436. 451. 525. 218.   0.   0.   0.   0.   0.]\n",
      "[392. 313. 200. 196. 453. 100.  98. 523.  50.  49. 558.  25. 321. 279.\n",
      " 309. 457. 436. 451. 525. 218. 522.   0.   0.   0.   0.]\n",
      "[392. 313. 200. 196. 453. 100.  98. 523.  50.  49. 558.  25. 321. 279.\n",
      " 309. 457. 436. 451. 525. 218. 522. 559.   0.   0.   0.]\n",
      "[392. 313. 200. 196. 453. 100.  98. 523.  50.  49. 558.  25. 321. 279.\n",
      " 309. 457. 436. 451. 525. 218. 522. 559. 109.   0.   0.]\n",
      "[392. 313. 200. 196. 453. 100.  98. 523.  50.  49. 558.  25. 321. 279.\n",
      " 309. 457. 436. 451. 525. 218. 522. 559. 109. 261.   0.]\n",
      "[392. 313. 200. 196. 453. 100.  98. 523.  50.  49. 558.  25. 321. 279.\n",
      " 309. 457. 436. 451. 525. 218. 522. 559. 109. 261. 576.]\n",
      "c 1\n",
      "x (array([], dtype=int64),)\n",
      "c 591\n",
      "x (array([], dtype=int64),)\n",
      "c 4\n",
      "x (array([], dtype=int64),)\n",
      "c 585\n",
      "x (array([], dtype=int64),)\n",
      "c 16\n",
      "x (array([], dtype=int64),)\n",
      "c 561\n",
      "x (array([], dtype=int64),)\n",
      "c 64\n",
      "x (array([], dtype=int64),)\n",
      "c 465\n",
      "x (array([], dtype=int64),)\n",
      "c 256\n",
      "x (array([], dtype=int64),)\n",
      "c 81\n",
      "x (array([], dtype=int64),)\n",
      "c 431\n",
      "x (array([], dtype=int64),)\n",
      "c 324\n",
      "x (array([], dtype=int64),)\n",
      "c 538\n",
      "x (array([], dtype=int64),)\n",
      "c 110\n",
      "x (array([], dtype=int64),)\n",
      "c 373\n",
      "x (array([], dtype=int64),)\n",
      "c 440\n",
      "x (array([], dtype=int64),)\n",
      "c 306\n",
      "x (array([], dtype=int64),)\n",
      "c 574\n",
      "x (array([], dtype=int64),)\n",
      "c 38\n",
      "x (array([], dtype=int64),)\n",
      "c 517\n",
      "x (array([], dtype=int64),)\n",
      "c 152\n",
      "x (array([], dtype=int64),)\n",
      "c 289\n",
      "x (array([], dtype=int64),)\n",
      "c 15\n",
      "x (array([], dtype=int64),)\n",
      "c 563\n",
      "x (array([], dtype=int64),)\n",
      "c 60\n",
      "x (array([], dtype=int64),)\n",
      "end\n"
     ]
    }
   ],
   "source": [
    "a = 591\n",
    "b = 392 #= even\n",
    "p = 593\n",
    "N = int(np.sqrt(p-1))+1\n",
    "GS = np.zeros(N)\n",
    "for k in range(N):\n",
    "    GS[k] = b*bnt.Exp(a,2*(p-1)-k*N,p)%p\n",
    "    print(GS)    #s\n",
    "for j in range(N):\n",
    "    c = bnt.Exp(a,p-1+j,p)\n",
    "    print('c',c)\n",
    "    x = np.where(GS==c)\n",
    "    print('x',x)\n",
    "    if np.shape(x)!=(1,0):\n",
    "        if not (j==0 and x[0][0]==0):\n",
    "            print('find')\n",
    "            print((x[0][0]*N+j)%(p-1)  )\n",
    "print('end')\n",
    "# return 0"
   ]
  },
  {
   "cell_type": "code",
   "execution_count": null,
   "metadata": {
    "lines_to_next_cell": 2
   },
   "outputs": [],
   "source": [
    "\n",
    "\n"
   ]
  }
 ],
 "metadata": {
  "jupytext": {
   "cell_metadata_filter": "-all",
   "encoding": "# -*- coding: utf-8 -*-",
   "notebook_metadata_filter": "-all",
   "text_representation": {
    "extension": ".py",
    "format_name": "percent"
   }
  },
  "kernelspec": {
   "display_name": "Python 3",
   "language": "python",
   "name": "python3"
  },
  "toc": {
   "base_numbering": 1,
   "nav_menu": {},
   "number_sections": true,
   "sideBar": true,
   "skip_h1_title": false,
   "title_cell": "Table of Contents",
   "title_sidebar": "Contents",
   "toc_cell": false,
   "toc_position": {},
   "toc_section_display": true,
   "toc_window_display": false
  },
  "varInspector": {
   "cols": {
    "lenName": 16,
    "lenType": 16,
    "lenVar": 40
   },
   "kernels_config": {
    "python": {
     "delete_cmd_postfix": "",
     "delete_cmd_prefix": "del ",
     "library": "var_list.py",
     "varRefreshCmd": "print(var_dic_list())"
    },
    "r": {
     "delete_cmd_postfix": ") ",
     "delete_cmd_prefix": "rm(",
     "library": "var_list.r",
     "varRefreshCmd": "cat(var_dic_list()) "
    }
   },
   "types_to_exclude": [
    "module",
    "function",
    "builtin_function_or_method",
    "instance",
    "_Feature"
   ],
   "window_display": false
  }
 },
 "nbformat": 4,
 "nbformat_minor": 2
}
